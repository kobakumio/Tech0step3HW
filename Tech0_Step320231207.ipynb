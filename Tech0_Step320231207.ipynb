{
 "cells": [
  {
   "cell_type": "code",
   "execution_count": 30,
   "metadata": {},
   "outputs": [],
   "source": [
    "import requests\n",
    "from bs4 import BeautifulSoup\n",
    "import pandas as pd\n",
    "\n",
    "def scrape_page(url,data):\n",
    "    # URLからHTMLコンテンツを取得\n",
    "    response = requests.get(url)\n",
    "    # HTMLをパース\n",
    "    soup = BeautifulSoup(response.text, 'html.parser')\n",
    "\n",
    "    # 各物件の詳細を取得\n",
    "    for item in soup.find_all(\"div\", class_=\"cassetteitem\"):\n",
    "        title = item.find(\"div\", class_=\"cassetteitem_content-title\").text.strip()\n",
    "        address = item.find(\"li\", class_=\"cassetteitem_detail-col1\").text.strip()\n",
    "        build_info = item.find(\"li\", class_=\"cassetteitem_detail-col3\").text.strip()\n",
    "        transport = [t.text.strip() for t in item.find_all(\"div\", class_=\"cassetteitem_detail-text\")]\n",
    "        detail_url = item.find(\"a\", class_=\"js-cassette_link_href\")[\"href\"]\n",
    "\n",
    "        # 各部屋の詳細を取得\n",
    "        for room in item.find_all(\"tr\", class_=\"js-cassette_link\"):\n",
    "            # 'td' タグを全て取得\n",
    "            tds = room.find_all(\"td\")\n",
    "            # 'td' タグの中から階数を含むものを探す\n",
    "            floor = next((td.text.strip() for td in tds if \"階\" in td.text), \"不明\")\n",
    "            rent = room.find(\"span\", class_=\"cassetteitem_price--rent\").text.strip()\n",
    "            admin_fee = room.find(\"span\", class_=\"cassetteitem_price--administration\").text.strip()\n",
    "            deposit = room.find(\"span\", class_=\"cassetteitem_price--deposit\").text.strip()\n",
    "            gratuity = room.find(\"span\", class_=\"cassetteitem_price--gratuity\").text.strip()\n",
    "            layout = room.find(\"span\", class_=\"cassetteitem_madori\").text.strip()\n",
    "            size = room.find(\"span\", class_=\"cassetteitem_menseki\").text.strip()\n",
    "\n",
    "            # リストにデータを追加\n",
    "            data.append([title, address, build_info] + transport + [floor, rent, admin_fee, deposit, gratuity, layout, size, detail_url])\n",
    "# データを格納するリストを初期化\n",
    "data = []\n",
    "\n",
    "# 基本となるURL\n",
    "base_url = \"https://suumo.jp/jj/chintai/ichiran/FR301FC001/?ar=030&bs=040&ra=013&rn=0045&ek=004531420&cb=0.0&ct=9999999&mb=0&mt=9999999&md=03&md=04&et=9999999&cn=9999999&shkr1=03&shkr2=03&shkr3=03&shkr4=03&sngz=&po1=25&pc=50\"\n",
    "\n",
    "# スクレイピングするページ数\n",
    "total_pages = 2\n",
    "\n",
    "for page_number in range(1, total_pages + 1):\n",
    "    url = f\"{base_url}&page={page_number}\"\n",
    "    scrape_page(url,data)\n",
    "\n",
    "# データフレームの作成\n",
    "columns = ['Title', 'Address', 'Building Info', 'Transport 1', 'Transport 2', 'Transport 3', 'Floor', 'Rent', 'Administration Fee', 'Deposit', 'Gratuity', 'Layout', 'Size', 'Detail URL']\n",
    "df = pd.DataFrame(data, columns=columns)\n",
    "\n",
    "# データフレームをcsvにおとす\n",
    "df.to_csv('data.csv', index=False)"
   ]
  },
  {
   "cell_type": "code",
   "execution_count": null,
   "metadata": {},
   "outputs": [],
   "source": []
  }
 ],
 "metadata": {
  "kernelspec": {
   "display_name": "Python 3",
   "language": "python",
   "name": "python3"
  },
  "language_info": {
   "codemirror_mode": {
    "name": "ipython",
    "version": 3
   },
   "file_extension": ".py",
   "mimetype": "text/x-python",
   "name": "python",
   "nbconvert_exporter": "python",
   "pygments_lexer": "ipython3",
   "version": "3.11.4"
  }
 },
 "nbformat": 4,
 "nbformat_minor": 2
}
